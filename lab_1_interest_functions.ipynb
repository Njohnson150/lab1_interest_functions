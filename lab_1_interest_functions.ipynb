{
  "cells": [
    {
      "cell_type": "markdown",
      "metadata": {
        "id": "view-in-github",
        "colab_type": "text"
      },
      "source": [
        "<a href=\"https://colab.research.google.com/github/Njohnson150/lab1_interest_functions/blob/master/lab_1_interest_functions.ipynb\" target=\"_parent\"><img src=\"https://colab.research.google.com/assets/colab-badge.svg\" alt=\"Open In Colab\"/></a>"
      ]
    },
    {
      "cell_type": "markdown",
      "metadata": {
        "id": "XlL90dtKE9u3"
      },
      "source": [
        "## Lab 1 - Compound Interest Functions\n",
        "\n",
        "Below you will find a table of important formulae related to compound interest.  \n",
        "\n",
        "<img src=\"https://www.dummies.com/wp-content/uploads/251689.image0.jpg\" alt=\"image0.jpg\" width=\"400\" height=\"319\">\n",
        "\n",
        "In this lab, you will create functions for each of these using (and documenting) the following workflow.\n",
        "\n",
        "1. Work out the correct answer for a few examples. *Hint* Search for e.g. \"worked out compound interest examples\" on the web.\n",
        "2. Write a `lambda` function and test this function on your test cases.\n",
        "3. Convert the `lambda` function to a `def` statement with an informative doc string that follows the [Google formating rules](https://google.github.io/styleguide/pyguide.html#383-functions-and-methods).\n",
        "4. Write an automated test function (using your previous examples) that will test your `def` statement function each time the code is executed."
      ]
    },
    {
      "cell_type": "markdown",
      "metadata": {
        "id": "yPnviUQxE9u6"
      },
      "source": [
        "#### Problem 1 -- Apply the process to create a simple interest functions."
      ]
    },
    {
      "cell_type": "code",
      "execution_count": 2,
      "metadata": {
        "id": "rrgbDNLpE9u7",
        "outputId": "7475d82a-f5f6-4152-89ee-ae1323705d90",
        "colab": {
          "base_uri": "https://localhost:8080/",
          "height": 35
        }
      },
      "outputs": [
        {
          "output_type": "execute_result",
          "data": {
            "text/plain": [
              "'Your code here, insert more cells as needed'"
            ],
            "application/vnd.google.colaboratory.intrinsic+json": {
              "type": "string"
            }
          },
          "metadata": {},
          "execution_count": 2
        }
      ],
      "source": [
        "\"Your code here, insert more cells as needed\""
      ]
    },
    {
      "cell_type": "markdown",
      "source": [
        "For example, assume you have a car loan for $20,000. Your interest rate is 4% over 1 year."
      ],
      "metadata": {
        "id": "6_osezTkeo9j"
      }
    },
    {
      "cell_type": "code",
      "source": [
        "20000 * 0.04 *1"
      ],
      "metadata": {
        "id": "HxnzQOEve0qX",
        "outputId": "4b9b9ef7-a650-4b68-fd7c-849320e68640",
        "colab": {
          "base_uri": "https://localhost:8080/"
        }
      },
      "execution_count": 3,
      "outputs": [
        {
          "output_type": "execute_result",
          "data": {
            "text/plain": [
              "800.0"
            ]
          },
          "metadata": {},
          "execution_count": 3
        }
      ]
    },
    {
      "cell_type": "code",
      "source": [
        "SimpleInterest = lambda P, r, t: P*(r/100)*t"
      ],
      "metadata": {
        "id": "DAIcjmm4d7sy"
      },
      "execution_count": 4,
      "outputs": []
    },
    {
      "cell_type": "code",
      "source": [
        "SimpleInterest(20000, 4, 1)"
      ],
      "metadata": {
        "id": "yV4TmcameQra",
        "outputId": "a7f3cd40-030f-4a68-c685-8bd1dc1c9ca8",
        "colab": {
          "base_uri": "https://localhost:8080/"
        }
      },
      "execution_count": 5,
      "outputs": [
        {
          "output_type": "execute_result",
          "data": {
            "text/plain": [
              "800.0"
            ]
          },
          "metadata": {},
          "execution_count": 5
        }
      ]
    },
    {
      "cell_type": "markdown",
      "source": [
        "For example, assume you have a car loan for $50,000. Your interest rate is 8% over 5 years."
      ],
      "metadata": {
        "id": "GyuIFb7ggA3l"
      }
    },
    {
      "cell_type": "code",
      "source": [
        "50000*(8/100)*5"
      ],
      "metadata": {
        "id": "JHq0OBO2gAK1",
        "outputId": "3426cc82-54e4-427d-bf1d-9dddc56db1d3",
        "colab": {
          "base_uri": "https://localhost:8080/"
        }
      },
      "execution_count": 6,
      "outputs": [
        {
          "output_type": "execute_result",
          "data": {
            "text/plain": [
              "20000.0"
            ]
          },
          "metadata": {},
          "execution_count": 6
        }
      ]
    },
    {
      "cell_type": "code",
      "source": [
        "SimpleInterest(50000, 8, 5)"
      ],
      "metadata": {
        "id": "PpZFTVjTgI3E",
        "outputId": "fc4f40fe-143d-4d68-e444-9db04d483584",
        "colab": {
          "base_uri": "https://localhost:8080/"
        }
      },
      "execution_count": 7,
      "outputs": [
        {
          "output_type": "execute_result",
          "data": {
            "text/plain": [
              "20000.0"
            ]
          },
          "metadata": {},
          "execution_count": 7
        }
      ]
    },
    {
      "cell_type": "code",
      "source": [
        "def Simple_Interest(P, r, t):\n",
        "    \"\"\"Takes your Principle, Interest Rate, and Time in years and finds the simple interest\n",
        "    \n",
        "    Args:\n",
        "        P: a number\n",
        "        r: a number\n",
        "        t: a number\n",
        "\n",
        "    Returns:\n",
        "        A number that is the product of P, r, and t. This is known as the Simple Interest.\n",
        "    \"\"\"\n",
        "    output = P*(r/100)*t\n",
        "    return output"
      ],
      "metadata": {
        "id": "HuoVO_qzaf7W"
      },
      "execution_count": 8,
      "outputs": []
    },
    {
      "cell_type": "code",
      "source": [
        "assert Simple_Interest(50000, 8, 5) == 20000\n",
        "assert Simple_Interest(20000, 4, 1) == 800"
      ],
      "metadata": {
        "id": "pBDwv_uqbPp4"
      },
      "execution_count": 9,
      "outputs": []
    },
    {
      "cell_type": "code",
      "source": [
        "assert Simple_Interest(20000, 4, 1) == 700"
      ],
      "metadata": {
        "colab": {
          "base_uri": "https://localhost:8080/",
          "height": 166
        },
        "id": "_sc5WuMWbZh-",
        "outputId": "b51e977b-3721-4f47-9632-228019256d2a"
      },
      "execution_count": 11,
      "outputs": [
        {
          "output_type": "error",
          "ename": "AssertionError",
          "evalue": "ignored",
          "traceback": [
            "\u001b[0;31m---------------------------------------------------------------------------\u001b[0m",
            "\u001b[0;31mAssertionError\u001b[0m                            Traceback (most recent call last)",
            "\u001b[0;32m<ipython-input-11-9bfc9d8df3ee>\u001b[0m in \u001b[0;36m<module>\u001b[0;34m\u001b[0m\n\u001b[0;32m----> 1\u001b[0;31m \u001b[0;32massert\u001b[0m \u001b[0mSimple_Interest\u001b[0m\u001b[0;34m(\u001b[0m\u001b[0;36m20000\u001b[0m\u001b[0;34m,\u001b[0m \u001b[0;36m4\u001b[0m\u001b[0;34m,\u001b[0m \u001b[0;36m1\u001b[0m\u001b[0;34m)\u001b[0m \u001b[0;34m==\u001b[0m \u001b[0;36m700\u001b[0m\u001b[0;34m\u001b[0m\u001b[0;34m\u001b[0m\u001b[0m\n\u001b[0m",
            "\u001b[0;31mAssertionError\u001b[0m: "
          ]
        }
      ]
    },
    {
      "cell_type": "markdown",
      "metadata": {
        "id": "mRm5nANCE9u8"
      },
      "source": [
        "#### Problem 2 -- Apply the process to create a compound interest functions."
      ]
    },
    {
      "cell_type": "code",
      "execution_count": null,
      "metadata": {
        "id": "NdoUu_3EE9u8"
      },
      "outputs": [],
      "source": [
        "\"Your code here, insert more cells as needed\""
      ]
    },
    {
      "cell_type": "markdown",
      "source": [
        "Earns 3% compunded monthly, with an initial investment of 5,000 over 6 years"
      ],
      "metadata": {
        "id": "-qhkK-y5XAY8"
      }
    },
    {
      "cell_type": "code",
      "source": [
        "5000*(1+(0.03/12))**(12*6)"
      ],
      "metadata": {
        "id": "NtXyRCQbXIja",
        "outputId": "5d1451f6-e296-4916-963e-bd943c9ed73e",
        "colab": {
          "base_uri": "https://localhost:8080/"
        }
      },
      "execution_count": 19,
      "outputs": [
        {
          "output_type": "execute_result",
          "data": {
            "text/plain": [
              "5984.742337665309"
            ]
          },
          "metadata": {},
          "execution_count": 19
        }
      ]
    },
    {
      "cell_type": "code",
      "source": [
        "CompoundInterest = lambda P, r, n, t: round(P*(1+(r/n))**(n*t),2)"
      ],
      "metadata": {
        "id": "XgGXNrKYXsYm"
      },
      "execution_count": 31,
      "outputs": []
    },
    {
      "cell_type": "code",
      "source": [
        "CompoundInterest(5000, 0.03, 12, 6)"
      ],
      "metadata": {
        "id": "viHDlZJVZ6dj",
        "outputId": "6d6766eb-74c3-455c-edaa-a9f9175e574d",
        "colab": {
          "base_uri": "https://localhost:8080/"
        }
      },
      "execution_count": 32,
      "outputs": [
        {
          "output_type": "execute_result",
          "data": {
            "text/plain": [
              "5984.74"
            ]
          },
          "metadata": {},
          "execution_count": 32
        }
      ]
    },
    {
      "cell_type": "code",
      "source": [
        "def CompoundInterest(P, r, n, t):\n",
        "    \"\"\"Takes your Principle, Interest Rate, compoundings, and years and finds the compound interest\n",
        "  \n",
        "    Args:\n",
        "        P: a number\n",
        "        r: a number\n",
        "        n: a number\n",
        "        t: a number\n",
        "\n",
        "    Returns:\n",
        "        A number that is the known as the Compound Interest.\n",
        "    \"\"\"\n",
        "    output = P*(1+(r/n))**(n*t)\n",
        "    return output"
      ],
      "metadata": {
        "id": "uMBPaCTMdW_Y"
      },
      "execution_count": 30,
      "outputs": []
    },
    {
      "cell_type": "code",
      "source": [
        "assert CompoundInterest(5000, 0.03, 12, 6) == 5984.74\n",
        "assert CompoundInterest(5000, 0.03, 12, 8) == 5984"
      ],
      "metadata": {
        "id": "Tg4XXI-nd8DG",
        "outputId": "071f4681-3b4e-4242-e48b-596ebf199834",
        "colab": {
          "base_uri": "https://localhost:8080/",
          "height": 184
        }
      },
      "execution_count": 35,
      "outputs": [
        {
          "output_type": "error",
          "ename": "AssertionError",
          "evalue": "ignored",
          "traceback": [
            "\u001b[0;31m---------------------------------------------------------------------------\u001b[0m",
            "\u001b[0;31mAssertionError\u001b[0m                            Traceback (most recent call last)",
            "\u001b[0;32m<ipython-input-35-709330f07c0f>\u001b[0m in \u001b[0;36m<module>\u001b[0;34m\u001b[0m\n\u001b[1;32m      1\u001b[0m \u001b[0;32massert\u001b[0m \u001b[0mCompoundInterest\u001b[0m\u001b[0;34m(\u001b[0m\u001b[0;36m5000\u001b[0m\u001b[0;34m,\u001b[0m \u001b[0;36m0.03\u001b[0m\u001b[0;34m,\u001b[0m \u001b[0;36m12\u001b[0m\u001b[0;34m,\u001b[0m \u001b[0;36m6\u001b[0m\u001b[0;34m)\u001b[0m \u001b[0;34m==\u001b[0m \u001b[0;36m5984.74\u001b[0m\u001b[0;34m\u001b[0m\u001b[0;34m\u001b[0m\u001b[0m\n\u001b[0;32m----> 2\u001b[0;31m \u001b[0;32massert\u001b[0m \u001b[0mCompoundInterest\u001b[0m\u001b[0;34m(\u001b[0m\u001b[0;36m5000\u001b[0m\u001b[0;34m,\u001b[0m \u001b[0;36m0.03\u001b[0m\u001b[0;34m,\u001b[0m \u001b[0;36m12\u001b[0m\u001b[0;34m,\u001b[0m \u001b[0;36m8\u001b[0m\u001b[0;34m)\u001b[0m \u001b[0;34m==\u001b[0m \u001b[0;36m5984\u001b[0m\u001b[0;34m\u001b[0m\u001b[0;34m\u001b[0m\u001b[0m\n\u001b[0m",
            "\u001b[0;31mAssertionError\u001b[0m: "
          ]
        }
      ]
    },
    {
      "cell_type": "markdown",
      "metadata": {
        "id": "bLYhaUiKE9u8"
      },
      "source": [
        "#### Problem 3 -- Apply the process to create a amortized loan payment function."
      ]
    },
    {
      "cell_type": "code",
      "execution_count": null,
      "metadata": {
        "id": "XrrkuXl3E9u9"
      },
      "outputs": [],
      "source": [
        "\"Your code here, insert more cells as needed\""
      ]
    },
    {
      "cell_type": "markdown",
      "source": [
        "Take out a loan of $36,000, the interest rate is 15 percent and you want to repay the loan in 4 annual payments."
      ],
      "metadata": {
        "id": "ylbXbWhgFhOs"
      }
    },
    {
      "cell_type": "code",
      "source": [
        "(36000*.15)/(1-(1+.15)**-4)"
      ],
      "metadata": {
        "id": "WoDYDd_MFx4C",
        "outputId": "4508e0bf-ead8-4b26-b1a7-244f1046a520",
        "colab": {
          "base_uri": "https://localhost:8080/"
        }
      },
      "execution_count": 1,
      "outputs": [
        {
          "output_type": "execute_result",
          "data": {
            "text/plain": [
              "12609.552657270888"
            ]
          },
          "metadata": {},
          "execution_count": 1
        }
      ]
    },
    {
      "cell_type": "code",
      "source": [
        "AmortizedLoan = lambda P, i, n: round((P*i)/(1-(1+i)**-n),2)"
      ],
      "metadata": {
        "id": "RgHsZ8P9JE3A"
      },
      "execution_count": 2,
      "outputs": []
    },
    {
      "cell_type": "code",
      "source": [
        "AmortizedLoan(36000, .15, 4)"
      ],
      "metadata": {
        "id": "AIgb8fmWJTYp",
        "outputId": "35c8666c-e128-42b9-ca77-f1e8be758b69",
        "colab": {
          "base_uri": "https://localhost:8080/"
        }
      },
      "execution_count": 4,
      "outputs": [
        {
          "output_type": "execute_result",
          "data": {
            "text/plain": [
              "12609.55"
            ]
          },
          "metadata": {},
          "execution_count": 4
        }
      ]
    },
    {
      "cell_type": "code",
      "source": [
        "def AmortizedLoan(P, i, n):\n",
        "    \"\"\"Takes you amount borrowed, interest rate per period, and number of payments are gives the Amortized loan payment\n",
        "  \n",
        "    Args:\n",
        "        P: a number\n",
        "        i: a number\n",
        "        n: a number\n",
        "\n",
        "    Returns:\n",
        "        A number that is the known as the amortized loan payment.\n",
        "    \"\"\"\n",
        "    output = round((P*i)/(1-(1+i)**-n),2)\n",
        "    return output"
      ],
      "metadata": {
        "id": "z8Cwr5PuJcYb"
      },
      "execution_count": 5,
      "outputs": []
    },
    {
      "cell_type": "code",
      "source": [
        "assert AmortizedLoan(36000, .15, 4) == 12609.55\n",
        "assert AmortizedLoan(36000, .15, 4) == 12500"
      ],
      "metadata": {
        "id": "rjh53rwebM3O",
        "outputId": "cc41c79c-acac-413a-a39f-efcae4559546",
        "colab": {
          "base_uri": "https://localhost:8080/",
          "height": 184
        }
      },
      "execution_count": 6,
      "outputs": [
        {
          "output_type": "error",
          "ename": "AssertionError",
          "evalue": "ignored",
          "traceback": [
            "\u001b[0;31m---------------------------------------------------------------------------\u001b[0m",
            "\u001b[0;31mAssertionError\u001b[0m                            Traceback (most recent call last)",
            "\u001b[0;32m<ipython-input-6-f39315ea3ac5>\u001b[0m in \u001b[0;36m<module>\u001b[0;34m\u001b[0m\n\u001b[1;32m      1\u001b[0m \u001b[0;32massert\u001b[0m \u001b[0mAmortizedLoan\u001b[0m\u001b[0;34m(\u001b[0m\u001b[0;36m36000\u001b[0m\u001b[0;34m,\u001b[0m \u001b[0;36m.15\u001b[0m\u001b[0;34m,\u001b[0m \u001b[0;36m4\u001b[0m\u001b[0;34m)\u001b[0m \u001b[0;34m==\u001b[0m \u001b[0;36m12609.55\u001b[0m\u001b[0;34m\u001b[0m\u001b[0;34m\u001b[0m\u001b[0m\n\u001b[0;32m----> 2\u001b[0;31m \u001b[0;32massert\u001b[0m \u001b[0mAmortizedLoan\u001b[0m\u001b[0;34m(\u001b[0m\u001b[0;36m36000\u001b[0m\u001b[0;34m,\u001b[0m \u001b[0;36m.15\u001b[0m\u001b[0;34m,\u001b[0m \u001b[0;36m4\u001b[0m\u001b[0;34m)\u001b[0m \u001b[0;34m==\u001b[0m \u001b[0;36m12500\u001b[0m\u001b[0;34m\u001b[0m\u001b[0;34m\u001b[0m\u001b[0m\n\u001b[0m",
            "\u001b[0;31mAssertionError\u001b[0m: "
          ]
        }
      ]
    },
    {
      "cell_type": "markdown",
      "metadata": {
        "id": "gq5v1zecE9u9"
      },
      "source": [
        "#### Problem 4 -- Apply the process to create a remaining balance function"
      ]
    },
    {
      "cell_type": "code",
      "execution_count": null,
      "metadata": {
        "id": "fr6viGLJE9u9"
      },
      "outputs": [],
      "source": [
        "\"Your code here, insert more cells as needed\""
      ]
    }
  ],
  "metadata": {
    "kernelspec": {
      "display_name": "Python 3",
      "language": "python",
      "name": "python3"
    },
    "language_info": {
      "codemirror_mode": {
        "name": "ipython",
        "version": 3
      },
      "file_extension": ".py",
      "mimetype": "text/x-python",
      "name": "python",
      "nbconvert_exporter": "python",
      "pygments_lexer": "ipython3",
      "version": "3.7.2"
    },
    "colab": {
      "provenance": [],
      "include_colab_link": true
    }
  },
  "nbformat": 4,
  "nbformat_minor": 0
}