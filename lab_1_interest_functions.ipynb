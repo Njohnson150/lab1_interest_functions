{
  "cells": [
    {
      "cell_type": "markdown",
      "metadata": {
        "id": "view-in-github",
        "colab_type": "text"
      },
      "source": [
        "<a href=\"https://colab.research.google.com/github/Njohnson150/lab1_interest_functions/blob/master/lab_1_interest_functions.ipynb\" target=\"_parent\"><img src=\"https://colab.research.google.com/assets/colab-badge.svg\" alt=\"Open In Colab\"/></a>"
      ]
    },
    {
      "cell_type": "markdown",
      "metadata": {
        "id": "XlL90dtKE9u3"
      },
      "source": [
        "## Lab 1 - Compound Interest Functions\n",
        "\n",
        "Below you will find a table of important formulae related to compound interest.  \n",
        "\n",
        "<img src=\"https://www.dummies.com/wp-content/uploads/251689.image0.jpg\" alt=\"image0.jpg\" width=\"400\" height=\"319\">\n",
        "\n",
        "In this lab, you will create functions for each of these using (and documenting) the following workflow.\n",
        "\n",
        "1. Work out the correct answer for a few examples. *Hint* Search for e.g. \"worked out compound interest examples\" on the web.\n",
        "2. Write a `lambda` function and test this function on your test cases.\n",
        "3. Convert the `lambda` function to a `def` statement with an informative doc string that follows the [Google formating rules](https://google.github.io/styleguide/pyguide.html#383-functions-and-methods).\n",
        "4. Write an automated test function (using your previous examples) that will test your `def` statement function each time the code is executed."
      ]
    },
    {
      "cell_type": "markdown",
      "metadata": {
        "id": "yPnviUQxE9u6"
      },
      "source": [
        "#### Problem 1 -- Apply the process to create a simple interest functions."
      ]
    },
    {
      "cell_type": "code",
      "execution_count": null,
      "metadata": {
        "id": "rrgbDNLpE9u7",
        "outputId": "530df780-f132-4509-9e9a-d7532d668da1"
      },
      "outputs": [
        {
          "data": {
            "text/plain": [
              "'Your code here, insert more cells as needed'"
            ]
          },
          "execution_count": 1,
          "metadata": {},
          "output_type": "execute_result"
        }
      ],
      "source": [
        "\"Your code here, insert more cells as needed\""
      ]
    },
    {
      "cell_type": "markdown",
      "source": [
        "For example, assume you have a car loan for $20,000. Your interest rate is 4% over 1 year."
      ],
      "metadata": {
        "id": "6_osezTkeo9j"
      }
    },
    {
      "cell_type": "code",
      "source": [
        "20000 * 0.04 *1"
      ],
      "metadata": {
        "id": "HxnzQOEve0qX",
        "outputId": "0805fa4f-f9d3-4efe-ce2e-bbcb6b70036e",
        "colab": {
          "base_uri": "https://localhost:8080/"
        }
      },
      "execution_count": 2,
      "outputs": [
        {
          "output_type": "execute_result",
          "data": {
            "text/plain": [
              "800.0"
            ]
          },
          "metadata": {},
          "execution_count": 2
        }
      ]
    },
    {
      "cell_type": "code",
      "source": [
        "SimpleInterest = lambda P, r, t: P*(r/100)*t"
      ],
      "metadata": {
        "id": "DAIcjmm4d7sy"
      },
      "execution_count": 6,
      "outputs": []
    },
    {
      "cell_type": "code",
      "source": [
        "SimpleInterest(20000, 4, 1)"
      ],
      "metadata": {
        "id": "yV4TmcameQra",
        "outputId": "3d4b685a-c7a4-4981-9a32-1399930f3baf",
        "colab": {
          "base_uri": "https://localhost:8080/"
        }
      },
      "execution_count": 7,
      "outputs": [
        {
          "output_type": "execute_result",
          "data": {
            "text/plain": [
              "800.0"
            ]
          },
          "metadata": {},
          "execution_count": 7
        }
      ]
    },
    {
      "cell_type": "markdown",
      "source": [
        "For example, assume you have a car loan for $50,000. Your interest rate is 8% over 5 years."
      ],
      "metadata": {
        "id": "GyuIFb7ggA3l"
      }
    },
    {
      "cell_type": "code",
      "source": [
        "50000*(8/100)*5"
      ],
      "metadata": {
        "id": "JHq0OBO2gAK1",
        "outputId": "3a393481-2f19-4eb2-e29c-d42db253f8d6",
        "colab": {
          "base_uri": "https://localhost:8080/"
        }
      },
      "execution_count": 8,
      "outputs": [
        {
          "output_type": "execute_result",
          "data": {
            "text/plain": [
              "20000.0"
            ]
          },
          "metadata": {},
          "execution_count": 8
        }
      ]
    },
    {
      "cell_type": "code",
      "source": [
        "SimpleInterest(50000, 8, 5)"
      ],
      "metadata": {
        "id": "PpZFTVjTgI3E",
        "outputId": "bc98fc88-4a78-4803-cce9-98c208e81674",
        "colab": {
          "base_uri": "https://localhost:8080/"
        }
      },
      "execution_count": 9,
      "outputs": [
        {
          "output_type": "execute_result",
          "data": {
            "text/plain": [
              "20000.0"
            ]
          },
          "metadata": {},
          "execution_count": 9
        }
      ]
    },
    {
      "cell_type": "markdown",
      "metadata": {
        "id": "mRm5nANCE9u8"
      },
      "source": [
        "#### Problem 2 -- Apply the process to create a compound interest functions."
      ]
    },
    {
      "cell_type": "code",
      "execution_count": null,
      "metadata": {
        "id": "NdoUu_3EE9u8"
      },
      "outputs": [],
      "source": [
        "\"Your code here, insert more cells as needed\""
      ]
    },
    {
      "cell_type": "markdown",
      "metadata": {
        "id": "bLYhaUiKE9u8"
      },
      "source": [
        "#### Problem 3 -- Apply the process to create a amortized loan payment function."
      ]
    },
    {
      "cell_type": "code",
      "execution_count": null,
      "metadata": {
        "id": "XrrkuXl3E9u9"
      },
      "outputs": [],
      "source": [
        "\"Your code here, insert more cells as needed\""
      ]
    },
    {
      "cell_type": "markdown",
      "metadata": {
        "id": "gq5v1zecE9u9"
      },
      "source": [
        "#### Problem 4 -- Apply the process to create a remaining balance function"
      ]
    },
    {
      "cell_type": "code",
      "execution_count": null,
      "metadata": {
        "id": "fr6viGLJE9u9"
      },
      "outputs": [],
      "source": [
        "\"Your code here, insert more cells as needed\""
      ]
    }
  ],
  "metadata": {
    "kernelspec": {
      "display_name": "Python 3",
      "language": "python",
      "name": "python3"
    },
    "language_info": {
      "codemirror_mode": {
        "name": "ipython",
        "version": 3
      },
      "file_extension": ".py",
      "mimetype": "text/x-python",
      "name": "python",
      "nbconvert_exporter": "python",
      "pygments_lexer": "ipython3",
      "version": "3.7.2"
    },
    "colab": {
      "provenance": [],
      "include_colab_link": true
    }
  },
  "nbformat": 4,
  "nbformat_minor": 0
}