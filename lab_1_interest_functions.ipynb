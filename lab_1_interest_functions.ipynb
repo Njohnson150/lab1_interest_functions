{
  "cells": [
    {
      "cell_type": "markdown",
      "metadata": {
        "id": "view-in-github",
        "colab_type": "text"
      },
      "source": [
        "<a href=\"https://colab.research.google.com/github/Njohnson150/lab1_interest_functions/blob/master/lab_1_interest_functions.ipynb\" target=\"_parent\"><img src=\"https://colab.research.google.com/assets/colab-badge.svg\" alt=\"Open In Colab\"/></a>"
      ]
    },
    {
      "cell_type": "markdown",
      "metadata": {
        "id": "XlL90dtKE9u3"
      },
      "source": [
        "## Lab 1 - Compound Interest Functions\n",
        "\n",
        "Below you will find a table of important formulae related to compound interest.  \n",
        "\n",
        "<img src=\"https://www.dummies.com/wp-content/uploads/251689.image0.jpg\" alt=\"image0.jpg\" width=\"400\" height=\"319\">\n",
        "\n",
        "In this lab, you will create functions for each of these using (and documenting) the following workflow.\n",
        "\n",
        "1. Work out the correct answer for a few examples. *Hint* Search for e.g. \"worked out compound interest examples\" on the web.\n",
        "2. Write a `lambda` function and test this function on your test cases.\n",
        "3. Convert the `lambda` function to a `def` statement with an informative doc string that follows the [Google formating rules](https://google.github.io/styleguide/pyguide.html#383-functions-and-methods).\n",
        "4. Write an automated test function (using your previous examples) that will test your `def` statement function each time the code is executed."
      ]
    },
    {
      "cell_type": "markdown",
      "metadata": {
        "id": "yPnviUQxE9u6"
      },
      "source": [
        "#### Problem 1 -- Apply the process to create a simple interest functions."
      ]
    },
    {
      "cell_type": "code",
      "execution_count": 64,
      "metadata": {
        "id": "rrgbDNLpE9u7",
        "outputId": "2b92bccb-bb28-4fe9-f561-ea302a35ab94",
        "colab": {
          "base_uri": "https://localhost:8080/",
          "height": 35
        }
      },
      "outputs": [
        {
          "output_type": "execute_result",
          "data": {
            "text/plain": [
              "'Your code here, insert more cells as needed'"
            ],
            "application/vnd.google.colaboratory.intrinsic+json": {
              "type": "string"
            }
          },
          "metadata": {},
          "execution_count": 64
        }
      ],
      "source": [
        "\"Your code here, insert more cells as needed\""
      ]
    },
    {
      "cell_type": "markdown",
      "source": [
        "For example, assume you have a car loan for $20,000. Your interest rate is 4% over 1 year."
      ],
      "metadata": {
        "id": "6_osezTkeo9j"
      }
    },
    {
      "cell_type": "code",
      "source": [
        "20000 * 0.04 *1"
      ],
      "metadata": {
        "id": "HxnzQOEve0qX",
        "outputId": "6cdc9014-04fd-437d-f264-41883bb7f20b",
        "colab": {
          "base_uri": "https://localhost:8080/"
        }
      },
      "execution_count": 65,
      "outputs": [
        {
          "output_type": "execute_result",
          "data": {
            "text/plain": [
              "800.0"
            ]
          },
          "metadata": {},
          "execution_count": 65
        }
      ]
    },
    {
      "cell_type": "code",
      "source": [
        "SimpleInterest = lambda P, r, t: P*(r/100)*t"
      ],
      "metadata": {
        "id": "DAIcjmm4d7sy"
      },
      "execution_count": 66,
      "outputs": []
    },
    {
      "cell_type": "code",
      "source": [
        "SimpleInterest(20000, 4, 1)"
      ],
      "metadata": {
        "id": "yV4TmcameQra",
        "outputId": "38418787-7e55-48ad-d34b-46cda60ab546",
        "colab": {
          "base_uri": "https://localhost:8080/"
        }
      },
      "execution_count": 67,
      "outputs": [
        {
          "output_type": "execute_result",
          "data": {
            "text/plain": [
              "800.0"
            ]
          },
          "metadata": {},
          "execution_count": 67
        }
      ]
    },
    {
      "cell_type": "markdown",
      "source": [
        "For example, assume you have a car loan for $50,000. Your interest rate is 8% over 5 years."
      ],
      "metadata": {
        "id": "GyuIFb7ggA3l"
      }
    },
    {
      "cell_type": "code",
      "source": [
        "50000*(8/100)*5"
      ],
      "metadata": {
        "id": "JHq0OBO2gAK1",
        "outputId": "5d3a1653-0f57-4613-ce27-80bdae969881",
        "colab": {
          "base_uri": "https://localhost:8080/"
        }
      },
      "execution_count": 68,
      "outputs": [
        {
          "output_type": "execute_result",
          "data": {
            "text/plain": [
              "20000.0"
            ]
          },
          "metadata": {},
          "execution_count": 68
        }
      ]
    },
    {
      "cell_type": "code",
      "source": [
        "SimpleInterest(50000, 8, 5)"
      ],
      "metadata": {
        "id": "PpZFTVjTgI3E",
        "outputId": "de6c1697-38f8-4bbb-e73d-dc8e91d1f322",
        "colab": {
          "base_uri": "https://localhost:8080/"
        }
      },
      "execution_count": 69,
      "outputs": [
        {
          "output_type": "execute_result",
          "data": {
            "text/plain": [
              "20000.0"
            ]
          },
          "metadata": {},
          "execution_count": 69
        }
      ]
    },
    {
      "cell_type": "code",
      "source": [
        "def Simple_Interest(P, r, t):\n",
        "    \"\"\"Takes your Principle, Interest Rate, and Time in years and finds the simple interest\n",
        "    \n",
        "    Args:\n",
        "        P: a number\n",
        "        r: a number\n",
        "        t: a number\n",
        "\n",
        "    Returns:\n",
        "        A number that is the product of P, r, and t. This is known as the Simple Interest.\n",
        "    \"\"\"\n",
        "    output = P*(r/100)*t\n",
        "    return output"
      ],
      "metadata": {
        "id": "HuoVO_qzaf7W"
      },
      "execution_count": 70,
      "outputs": []
    },
    {
      "cell_type": "code",
      "source": [
        "assert Simple_Interest(50000, 8, 5) == 20000\n",
        "assert Simple_Interest(20000, 4, 1) == 800"
      ],
      "metadata": {
        "id": "pBDwv_uqbPp4"
      },
      "execution_count": 71,
      "outputs": []
    },
    {
      "cell_type": "code",
      "source": [
        "assert Simple_Interest(20000, 4, 1) == 700"
      ],
      "metadata": {
        "colab": {
          "base_uri": "https://localhost:8080/",
          "height": 166
        },
        "id": "_sc5WuMWbZh-",
        "outputId": "4486f380-a517-48d1-f308-ffd4a61dae8a"
      },
      "execution_count": 86,
      "outputs": [
        {
          "output_type": "error",
          "ename": "AssertionError",
          "evalue": "ignored",
          "traceback": [
            "\u001b[0;31m---------------------------------------------------------------------------\u001b[0m",
            "\u001b[0;31mAssertionError\u001b[0m                            Traceback (most recent call last)",
            "\u001b[0;32m<ipython-input-86-9bfc9d8df3ee>\u001b[0m in \u001b[0;36m<module>\u001b[0;34m\u001b[0m\n\u001b[0;32m----> 1\u001b[0;31m \u001b[0;32massert\u001b[0m \u001b[0mSimple_Interest\u001b[0m\u001b[0;34m(\u001b[0m\u001b[0;36m20000\u001b[0m\u001b[0;34m,\u001b[0m \u001b[0;36m4\u001b[0m\u001b[0;34m,\u001b[0m \u001b[0;36m1\u001b[0m\u001b[0;34m)\u001b[0m \u001b[0;34m==\u001b[0m \u001b[0;36m700\u001b[0m\u001b[0;34m\u001b[0m\u001b[0;34m\u001b[0m\u001b[0m\n\u001b[0m",
            "\u001b[0;31mAssertionError\u001b[0m: "
          ]
        }
      ]
    },
    {
      "cell_type": "markdown",
      "metadata": {
        "id": "mRm5nANCE9u8"
      },
      "source": [
        "#### Problem 2 -- Apply the process to create a compound interest functions."
      ]
    },
    {
      "cell_type": "code",
      "execution_count": 87,
      "metadata": {
        "id": "NdoUu_3EE9u8",
        "colab": {
          "base_uri": "https://localhost:8080/",
          "height": 35
        },
        "outputId": "5995fa1b-13fa-443b-be83-d6d9c8fa4fc1"
      },
      "outputs": [
        {
          "output_type": "execute_result",
          "data": {
            "text/plain": [
              "'Your code here, insert more cells as needed'"
            ],
            "application/vnd.google.colaboratory.intrinsic+json": {
              "type": "string"
            }
          },
          "metadata": {},
          "execution_count": 87
        }
      ],
      "source": [
        "\"Your code here, insert more cells as needed\""
      ]
    },
    {
      "cell_type": "markdown",
      "source": [
        "Earns 3% compunded monthly, with an initial investment of 5,000 over 6 years"
      ],
      "metadata": {
        "id": "-qhkK-y5XAY8"
      }
    },
    {
      "cell_type": "code",
      "source": [
        "5000*(1+(0.03/12))**(12*6)"
      ],
      "metadata": {
        "colab": {
          "base_uri": "https://localhost:8080/"
        },
        "id": "NtXyRCQbXIja",
        "outputId": "2b60211e-78eb-4b90-ec49-a3234ecdcdd8"
      },
      "execution_count": 112,
      "outputs": [
        {
          "output_type": "execute_result",
          "data": {
            "text/plain": [
              "5984.742337665309"
            ]
          },
          "metadata": {},
          "execution_count": 112
        }
      ]
    },
    {
      "cell_type": "code",
      "source": [
        "CompoundInterest = lambda P, r, n, t: round(P*(1+(r/n))**(n*t),2)"
      ],
      "metadata": {
        "id": "XgGXNrKYXsYm"
      },
      "execution_count": 118,
      "outputs": []
    },
    {
      "cell_type": "code",
      "source": [
        "CompoundInterest(5000, 0.03, 12, 6)"
      ],
      "metadata": {
        "colab": {
          "base_uri": "https://localhost:8080/"
        },
        "id": "viHDlZJVZ6dj",
        "outputId": "42624ac8-6db7-4c05-baef-2e96c93fefdc"
      },
      "execution_count": 119,
      "outputs": [
        {
          "output_type": "execute_result",
          "data": {
            "text/plain": [
              "5984.74"
            ]
          },
          "metadata": {},
          "execution_count": 119
        }
      ]
    },
    {
      "cell_type": "code",
      "source": [
        "def CompoundInterest(P, r, n, t):\n",
        "    \"\"\"Takes your Principle, Interest Rate, compoundings, and years and finds the compound interest\n",
        "  \n",
        "    Args:\n",
        "        P: a number\n",
        "        r: a number\n",
        "        n: a number\n",
        "        t: a number\n",
        "\n",
        "    Returns:\n",
        "        A number that is the known as the Compound Interest.\n",
        "    \"\"\"\n",
        "    output = P*(1+(r/n))**(n*t)\n",
        "    return output"
      ],
      "metadata": {
        "id": "uMBPaCTMdW_Y"
      },
      "execution_count": 115,
      "outputs": []
    },
    {
      "cell_type": "code",
      "source": [
        "assert CompoundInterest(5000, 0.03, 12, 6) == 5984.74"
      ],
      "metadata": {
        "id": "Tg4XXI-nd8DG"
      },
      "execution_count": 124,
      "outputs": []
    },
    {
      "cell_type": "code",
      "source": [
        "assert CompoundInterest(5000, 0.03, 12, 8) == 5984"
      ],
      "metadata": {
        "colab": {
          "base_uri": "https://localhost:8080/",
          "height": 166
        },
        "id": "t9UsQ9gricoH",
        "outputId": "4361a222-d2f0-4893-a0ba-e3ddad782fa0"
      },
      "execution_count": 125,
      "outputs": [
        {
          "output_type": "error",
          "ename": "AssertionError",
          "evalue": "ignored",
          "traceback": [
            "\u001b[0;31m---------------------------------------------------------------------------\u001b[0m",
            "\u001b[0;31mAssertionError\u001b[0m                            Traceback (most recent call last)",
            "\u001b[0;32m<ipython-input-125-0cb5399baa8a>\u001b[0m in \u001b[0;36m<module>\u001b[0;34m\u001b[0m\n\u001b[0;32m----> 1\u001b[0;31m \u001b[0;32massert\u001b[0m \u001b[0mCompoundInterest\u001b[0m\u001b[0;34m(\u001b[0m\u001b[0;36m5000\u001b[0m\u001b[0;34m,\u001b[0m \u001b[0;36m0.03\u001b[0m\u001b[0;34m,\u001b[0m \u001b[0;36m12\u001b[0m\u001b[0;34m,\u001b[0m \u001b[0;36m8\u001b[0m\u001b[0;34m)\u001b[0m \u001b[0;34m==\u001b[0m \u001b[0;36m5984\u001b[0m\u001b[0;34m\u001b[0m\u001b[0;34m\u001b[0m\u001b[0m\n\u001b[0m",
            "\u001b[0;31mAssertionError\u001b[0m: "
          ]
        }
      ]
    },
    {
      "cell_type": "markdown",
      "metadata": {
        "id": "bLYhaUiKE9u8"
      },
      "source": [
        "#### Problem 3 -- Apply the process to create a amortized loan payment function."
      ]
    },
    {
      "cell_type": "code",
      "execution_count": 95,
      "metadata": {
        "id": "XrrkuXl3E9u9",
        "colab": {
          "base_uri": "https://localhost:8080/",
          "height": 35
        },
        "outputId": "02041b1a-e4f6-4cd9-8fc1-c02d355773f8"
      },
      "outputs": [
        {
          "output_type": "execute_result",
          "data": {
            "text/plain": [
              "'Your code here, insert more cells as needed'"
            ],
            "application/vnd.google.colaboratory.intrinsic+json": {
              "type": "string"
            }
          },
          "metadata": {},
          "execution_count": 95
        }
      ],
      "source": [
        "\"Your code here, insert more cells as needed\""
      ]
    },
    {
      "cell_type": "markdown",
      "source": [
        "Take out a loan of $36,000, the interest rate is 15 percent and you want to repay the loan in 4 annual payments."
      ],
      "metadata": {
        "id": "ylbXbWhgFhOs"
      }
    },
    {
      "cell_type": "code",
      "source": [
        "(36000*.15)/(1-(1+.15)**-4)"
      ],
      "metadata": {
        "colab": {
          "base_uri": "https://localhost:8080/"
        },
        "id": "WoDYDd_MFx4C",
        "outputId": "4d708b91-3732-4f9b-b173-e3af9df3a276"
      },
      "execution_count": 96,
      "outputs": [
        {
          "output_type": "execute_result",
          "data": {
            "text/plain": [
              "12609.552657270888"
            ]
          },
          "metadata": {},
          "execution_count": 96
        }
      ]
    },
    {
      "cell_type": "code",
      "source": [
        "AmortizedLoan = lambda P, i, n: round((P*i)/(1-(1+i)**-n),2)"
      ],
      "metadata": {
        "id": "RgHsZ8P9JE3A"
      },
      "execution_count": 97,
      "outputs": []
    },
    {
      "cell_type": "code",
      "source": [
        "AmortizedLoan(36000, .15, 4)"
      ],
      "metadata": {
        "colab": {
          "base_uri": "https://localhost:8080/"
        },
        "id": "AIgb8fmWJTYp",
        "outputId": "dd9420e1-5527-4f51-8ba0-c55d389c0198"
      },
      "execution_count": 98,
      "outputs": [
        {
          "output_type": "execute_result",
          "data": {
            "text/plain": [
              "12609.55"
            ]
          },
          "metadata": {},
          "execution_count": 98
        }
      ]
    },
    {
      "cell_type": "code",
      "source": [
        "def AmortizedLoan(P, i, n):\n",
        "    \"\"\"Takes you amount borrowed, interest rate per period, and number of payments are gives the Amortized loan payment\n",
        "  \n",
        "    Args:\n",
        "        P: a number\n",
        "        i: a number\n",
        "        n: a number\n",
        "\n",
        "    Returns:\n",
        "        A number that is the known as the amortized loan payment.\n",
        "    \"\"\"\n",
        "    output = round((P*i)/(1-(1+i)**-n),2)\n",
        "    return output"
      ],
      "metadata": {
        "id": "z8Cwr5PuJcYb"
      },
      "execution_count": 99,
      "outputs": []
    },
    {
      "cell_type": "code",
      "source": [
        "assert AmortizedLoan(36000, .15, 4) == 12609.55\n"
      ],
      "metadata": {
        "id": "rjh53rwebM3O"
      },
      "execution_count": 100,
      "outputs": []
    },
    {
      "cell_type": "code",
      "source": [
        "assert AmortizedLoan(36000, .15, 4) == 12500"
      ],
      "metadata": {
        "colab": {
          "base_uri": "https://localhost:8080/",
          "height": 166
        },
        "id": "sEKbM-JViZoi",
        "outputId": "ba43e082-6078-429c-8827-a6f26bd3f7ca"
      },
      "execution_count": 101,
      "outputs": [
        {
          "output_type": "error",
          "ename": "AssertionError",
          "evalue": "ignored",
          "traceback": [
            "\u001b[0;31m---------------------------------------------------------------------------\u001b[0m",
            "\u001b[0;31mAssertionError\u001b[0m                            Traceback (most recent call last)",
            "\u001b[0;32m<ipython-input-101-e5b114cc3f0d>\u001b[0m in \u001b[0;36m<module>\u001b[0;34m\u001b[0m\n\u001b[0;32m----> 1\u001b[0;31m \u001b[0;32massert\u001b[0m \u001b[0mAmortizedLoan\u001b[0m\u001b[0;34m(\u001b[0m\u001b[0;36m36000\u001b[0m\u001b[0;34m,\u001b[0m \u001b[0;36m.15\u001b[0m\u001b[0;34m,\u001b[0m \u001b[0;36m4\u001b[0m\u001b[0;34m)\u001b[0m \u001b[0;34m==\u001b[0m \u001b[0;36m12500\u001b[0m\u001b[0;34m\u001b[0m\u001b[0;34m\u001b[0m\u001b[0m\n\u001b[0m",
            "\u001b[0;31mAssertionError\u001b[0m: "
          ]
        }
      ]
    },
    {
      "cell_type": "markdown",
      "metadata": {
        "id": "gq5v1zecE9u9"
      },
      "source": [
        "#### Problem 4 -- Apply the process to create a remaining balance function"
      ]
    },
    {
      "cell_type": "code",
      "execution_count": 102,
      "metadata": {
        "id": "fr6viGLJE9u9",
        "colab": {
          "base_uri": "https://localhost:8080/",
          "height": 35
        },
        "outputId": "896f721c-02de-4c65-d08a-8da7d7180fd5"
      },
      "outputs": [
        {
          "output_type": "execute_result",
          "data": {
            "text/plain": [
              "'Your code here, insert more cells as needed'"
            ],
            "application/vnd.google.colaboratory.intrinsic+json": {
              "type": "string"
            }
          },
          "metadata": {},
          "execution_count": 102
        }
      ],
      "source": [
        "\"Your code here, insert more cells as needed\""
      ]
    },
    {
      "cell_type": "markdown",
      "source": [
        "Interest rate of 2% with monthly payments of $560 over 20 months, have already payed for 6 months on time."
      ],
      "metadata": {
        "id": "L27LKzLbej_i"
      }
    },
    {
      "cell_type": "code",
      "source": [
        "560*((1-(1+0.02)**-(20-6))/0.02)"
      ],
      "metadata": {
        "colab": {
          "base_uri": "https://localhost:8080/"
        },
        "id": "LulNHOzzeUjp",
        "outputId": "b8b8d332-c577-4e23-d5a6-b19aa475459d"
      },
      "execution_count": 103,
      "outputs": [
        {
          "output_type": "execute_result",
          "data": {
            "text/plain": [
              "6779.499311527901"
            ]
          },
          "metadata": {},
          "execution_count": 103
        }
      ]
    },
    {
      "cell_type": "code",
      "source": [
        "RemainingBalance = lambda R, i , n, x: round(R*((1-(1+i)**-(n-x))/i),2)"
      ],
      "metadata": {
        "id": "K1Fe5y5yhQWg"
      },
      "execution_count": 104,
      "outputs": []
    },
    {
      "cell_type": "code",
      "source": [
        "RemainingBalance(560, 0.02, 20, 6)"
      ],
      "metadata": {
        "colab": {
          "base_uri": "https://localhost:8080/"
        },
        "id": "19GF0VrOhfjW",
        "outputId": "58f947e3-e847-40b0-9523-cc3c013a4e00"
      },
      "execution_count": 105,
      "outputs": [
        {
          "output_type": "execute_result",
          "data": {
            "text/plain": [
              "6779.5"
            ]
          },
          "metadata": {},
          "execution_count": 105
        }
      ]
    },
    {
      "cell_type": "code",
      "source": [
        "def RemainingBalance(R, i , n, x):\n",
        "    \"\"\"Takes your regular payment, interest rate per period, number of payments, \n",
        "       and number of payments already made and return the remaining balance\n",
        "  \n",
        "    Args:\n",
        "        R: a number\n",
        "        i: a number\n",
        "        n: a number\n",
        "        x: a number\n",
        "\n",
        "    Returns:\n",
        "        A number that is the remaining balance of a loan\n",
        "    \"\"\"\n",
        "    output = round(R*((1-(1+i)**-(n-x))/i),2)\n",
        "    return output"
      ],
      "metadata": {
        "id": "YbosKGMQhrb1"
      },
      "execution_count": 106,
      "outputs": []
    },
    {
      "cell_type": "code",
      "source": [
        "assert RemainingBalance(560, 0.02, 20, 6) == 6779.5\n"
      ],
      "metadata": {
        "id": "yr4EW_RciF8M"
      },
      "execution_count": 107,
      "outputs": []
    },
    {
      "cell_type": "code",
      "source": [
        "assert RemainingBalance(560, 0.02, 20, 6) == 6750"
      ],
      "metadata": {
        "colab": {
          "base_uri": "https://localhost:8080/",
          "height": 166
        },
        "id": "_L6alL95iWWq",
        "outputId": "98f377d2-73ce-4c40-a291-fe4af466cbea"
      },
      "execution_count": 108,
      "outputs": [
        {
          "output_type": "error",
          "ename": "AssertionError",
          "evalue": "ignored",
          "traceback": [
            "\u001b[0;31m---------------------------------------------------------------------------\u001b[0m",
            "\u001b[0;31mAssertionError\u001b[0m                            Traceback (most recent call last)",
            "\u001b[0;32m<ipython-input-108-1f422cfc4b95>\u001b[0m in \u001b[0;36m<module>\u001b[0;34m\u001b[0m\n\u001b[0;32m----> 1\u001b[0;31m \u001b[0;32massert\u001b[0m \u001b[0mRemainingBalance\u001b[0m\u001b[0;34m(\u001b[0m\u001b[0;36m560\u001b[0m\u001b[0;34m,\u001b[0m \u001b[0;36m0.02\u001b[0m\u001b[0;34m,\u001b[0m \u001b[0;36m20\u001b[0m\u001b[0;34m,\u001b[0m \u001b[0;36m6\u001b[0m\u001b[0;34m)\u001b[0m \u001b[0;34m==\u001b[0m \u001b[0;36m6750\u001b[0m\u001b[0;34m\u001b[0m\u001b[0;34m\u001b[0m\u001b[0m\n\u001b[0m",
            "\u001b[0;31mAssertionError\u001b[0m: "
          ]
        }
      ]
    }
  ],
  "metadata": {
    "kernelspec": {
      "display_name": "Python 3",
      "language": "python",
      "name": "python3"
    },
    "language_info": {
      "codemirror_mode": {
        "name": "ipython",
        "version": 3
      },
      "file_extension": ".py",
      "mimetype": "text/x-python",
      "name": "python",
      "nbconvert_exporter": "python",
      "pygments_lexer": "ipython3",
      "version": "3.7.2"
    },
    "colab": {
      "provenance": [],
      "include_colab_link": true
    }
  },
  "nbformat": 4,
  "nbformat_minor": 0
}